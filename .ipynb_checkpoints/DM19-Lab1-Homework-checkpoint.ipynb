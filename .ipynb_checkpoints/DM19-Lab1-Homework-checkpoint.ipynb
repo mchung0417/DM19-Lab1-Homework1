{
 "cells": [
  {
   "cell_type": "markdown",
   "metadata": {},
   "source": [
    "### Student Information\n",
    "Name:\n",
    "鍾明遠\n",
    "\n",
    "Student ID:\n",
    "108011557\n",
    "\n",
    "GitHub ID:\n",
    "mchung0417"
   ]
  },
  {
   "cell_type": "markdown",
   "metadata": {},
   "source": [
    "---"
   ]
  },
  {
   "cell_type": "markdown",
   "metadata": {},
   "source": [
    "### Instructions"
   ]
  },
  {
   "cell_type": "markdown",
   "metadata": {},
   "source": [
    "1. First: do the **take home** exercises in the [DM19-Lab1-Master Repo](https://github.com/EvaArevalo/DM19-Lab1-Master). You may need to copy some cells from the Lab notebook to this notebook. __This part is worth 20% of your grade.__\n",
    "\n",
    "\n",
    "2. Second: follow the same process from the [DM19-Lab1-Master Repo](https://github.com/EvaArevalo/DM19-Lab1-Master) on **the new dataset**. You don't need to explain all details as we did (some **minimal comments** explaining your code are useful though).  __This part is worth 30% of your grade.__\n",
    "    - Download the [the new dataset](https://archive.ics.uci.edu/ml/datasets/Sentiment+Labelled+Sentences#). The dataset contains a `sentence` and `score` label. Read the specificiations of the dataset for details. \n",
    "    - You are allowed to use and modify the `helper` functions in the folder of the first lab session (notice they may need modification) or create your own.\n",
    "\n",
    "\n",
    "3. Third: please attempt the following tasks on **the new dataset**. __This part is worth 30% of your grade.__\n",
    "    - Generate meaningful **new data visualizations**. Refer to online resources and the Data Mining textbook for inspiration and ideas. \n",
    "    - Generate **TF-IDF features** from the tokens of each text. This will generating a document matrix, however, the weights will be computed differently (using the TF-IDF value of each word per document as opposed to the word frequency). Refer to this Sciki-learn [guide](http://scikit-learn.org/stable/modules/generated/sklearn.feature_extraction.text.TfidfVectorizer.html) .\n",
    "    - Implement a simple **Naive Bayes classifier** that automatically classifies the records into their categories. Use both the TF-IDF features and word frequency features to build two seperate classifiers. Comment on the differences.  Refer to this [article](https://hub.packtpub.com/implementing-3-naive-bayes-classifiers-in-scikit-learn/).\n",
    "\n",
    "\n",
    "4. Fourth: In the lab, we applied each step really quickly just to illustrate how to work with your dataset. There are somethings that are not ideal or the most efficient/meaningful. Each dataset can be habdled differently as well. What are those inefficent parts you noticed? How can you improve the Data preprocessing for these specific datasets? __This part is worth 10% of your grade.__\n",
    "\n",
    "\n",
    "5. Fifth: It's hard for us to follow if your code is messy :'(, so please **tidy up your notebook** and **add minimal comments where needed**. __This part is worth 10% of your grade.__\n",
    "\n",
    "\n",
    "You can submit your homework following these guidelines: [Git Intro & How to hand your homework](https://github.com/EvaArevalo/DM19-Lab1-Master/blob/master/Git%20Intro%20%26%20How%20to%20hand%20your%20homework.ipynb). Make sure to commit and save your changes to your repository __BEFORE the deadline (Oct. 29th 11:59 pm, Tuesday)__. "
   ]
  },
  {
   "cell_type": "markdown",
   "metadata": {},
   "source": [
    "---"
   ]
  },
  {
   "cell_type": "markdown",
   "metadata": {},
   "source": [
    "###  > First - take home excercise in DM Lab1 Master"
   ]
  },
  {
   "cell_type": "markdown",
   "metadata": {},
   "source": [
    " Exercise 2 (take home):\n",
    " \n",
    "Experiment with other querying techniques using pandas dataframes. Refer to their [documentation](https://pandas.pydata.org/pandas-docs/stable/indexing.html) for more information. "
   ]
  },
  {
   "cell_type": "code",
   "execution_count": 1,
   "metadata": {},
   "outputs": [
    {
     "data": {
      "text/html": [
       "<div>\n",
       "<style scoped>\n",
       "    .dataframe tbody tr th:only-of-type {\n",
       "        vertical-align: middle;\n",
       "    }\n",
       "\n",
       "    .dataframe tbody tr th {\n",
       "        vertical-align: top;\n",
       "    }\n",
       "\n",
       "    .dataframe thead th {\n",
       "        text-align: right;\n",
       "    }\n",
       "</style>\n",
       "<table border=\"1\" class=\"dataframe\">\n",
       "  <thead>\n",
       "    <tr style=\"text-align: right;\">\n",
       "      <th></th>\n",
       "      <th>text</th>\n",
       "      <th>category_name</th>\n",
       "    </tr>\n",
       "  </thead>\n",
       "  <tbody>\n",
       "    <tr>\n",
       "      <th>15</th>\n",
       "      <td>From: Mike_Peredo@mindlink.bc.ca (Mike Peredo)...</td>\n",
       "      <td>comp.graphics</td>\n",
       "    </tr>\n",
       "    <tr>\n",
       "      <th>20</th>\n",
       "      <td>From: dotsonm@dmapub.dma.org (Mark Dotson) Sub...</td>\n",
       "      <td>soc.religion.christian</td>\n",
       "    </tr>\n",
       "    <tr>\n",
       "      <th>25</th>\n",
       "      <td>From: dstampe@psych.toronto.edu (Dave Stampe) ...</td>\n",
       "      <td>comp.graphics</td>\n",
       "    </tr>\n",
       "    <tr>\n",
       "      <th>30</th>\n",
       "      <td>From: vgwlu@dunsell.calgary.chevron.com (greg ...</td>\n",
       "      <td>sci.med</td>\n",
       "    </tr>\n",
       "    <tr>\n",
       "      <th>35</th>\n",
       "      <td>From: BOCHERC@hartwick.edu Subject: Does God L...</td>\n",
       "      <td>soc.religion.christian</td>\n",
       "    </tr>\n",
       "    <tr>\n",
       "      <th>40</th>\n",
       "      <td>From: david-s@hsr.no (David A. Sjoen) Subject:...</td>\n",
       "      <td>soc.religion.christian</td>\n",
       "    </tr>\n",
       "    <tr>\n",
       "      <th>45</th>\n",
       "      <td>From: jaeger@buphy.bu.edu (Gregg Jaeger) Subje...</td>\n",
       "      <td>alt.atheism</td>\n",
       "    </tr>\n",
       "    <tr>\n",
       "      <th>50</th>\n",
       "      <td>From: ab@nova.cc.purdue.edu (Allen B) Subject:...</td>\n",
       "      <td>comp.graphics</td>\n",
       "    </tr>\n",
       "    <tr>\n",
       "      <th>55</th>\n",
       "      <td>From: ken@cs.UAlberta.CA (Huisman Kenneth M) S...</td>\n",
       "      <td>comp.graphics</td>\n",
       "    </tr>\n",
       "    <tr>\n",
       "      <th>60</th>\n",
       "      <td>From: Nanci Ann Miller &lt;nm0w+@andrew.cmu.edu&gt; ...</td>\n",
       "      <td>alt.atheism</td>\n",
       "    </tr>\n",
       "    <tr>\n",
       "      <th>65</th>\n",
       "      <td>From: dkennett@fraser.sfu.ca (Daniel Kennett) ...</td>\n",
       "      <td>comp.graphics</td>\n",
       "    </tr>\n",
       "    <tr>\n",
       "      <th>70</th>\n",
       "      <td>From: weaver@chdasic.sps.mot.com (Dave Weaver)...</td>\n",
       "      <td>soc.religion.christian</td>\n",
       "    </tr>\n",
       "    <tr>\n",
       "      <th>75</th>\n",
       "      <td>From: brr1@ns1.cc.lehigh.edu (BRANT RICHARD RI...</td>\n",
       "      <td>comp.graphics</td>\n",
       "    </tr>\n",
       "    <tr>\n",
       "      <th>80</th>\n",
       "      <td>From: annick@cortex.physiol.su.oz.au (Annick A...</td>\n",
       "      <td>sci.med</td>\n",
       "    </tr>\n",
       "    <tr>\n",
       "      <th>85</th>\n",
       "      <td>From: sts@mfltd.co.uk (Steve Sherwood (x5543))...</td>\n",
       "      <td>comp.graphics</td>\n",
       "    </tr>\n",
       "  </tbody>\n",
       "</table>\n",
       "</div>"
      ],
      "text/plain": [
       "                                                 text           category_name\n",
       "15  From: Mike_Peredo@mindlink.bc.ca (Mike Peredo)...           comp.graphics\n",
       "20  From: dotsonm@dmapub.dma.org (Mark Dotson) Sub...  soc.religion.christian\n",
       "25  From: dstampe@psych.toronto.edu (Dave Stampe) ...           comp.graphics\n",
       "30  From: vgwlu@dunsell.calgary.chevron.com (greg ...                 sci.med\n",
       "35  From: BOCHERC@hartwick.edu Subject: Does God L...  soc.religion.christian\n",
       "40  From: david-s@hsr.no (David A. Sjoen) Subject:...  soc.religion.christian\n",
       "45  From: jaeger@buphy.bu.edu (Gregg Jaeger) Subje...             alt.atheism\n",
       "50  From: ab@nova.cc.purdue.edu (Allen B) Subject:...           comp.graphics\n",
       "55  From: ken@cs.UAlberta.CA (Huisman Kenneth M) S...           comp.graphics\n",
       "60  From: Nanci Ann Miller <nm0w+@andrew.cmu.edu> ...             alt.atheism\n",
       "65  From: dkennett@fraser.sfu.ca (Daniel Kennett) ...           comp.graphics\n",
       "70  From: weaver@chdasic.sps.mot.com (Dave Weaver)...  soc.religion.christian\n",
       "75  From: brr1@ns1.cc.lehigh.edu (BRANT RICHARD RI...           comp.graphics\n",
       "80  From: annick@cortex.physiol.su.oz.au (Annick A...                 sci.med\n",
       "85  From: sts@mfltd.co.uk (Steve Sherwood (x5543))...           comp.graphics"
      ]
     },
     "execution_count": 1,
     "metadata": {},
     "output_type": "execute_result"
    }
   ],
   "source": [
    "import sklearn\n",
    "from sklearn.datasets import fetch_20newsgroups\n",
    "import pandas as pd\n",
    "import helpers.data_mining_helpers as dmh\n",
    "\n",
    "\n",
    "categories = ['alt.atheism', 'soc.religion.christian', 'comp.graphics', 'sci.med']\n",
    "twenty_train = fetch_20newsgroups(subset='train', categories=categories, \\\n",
    "                                  shuffle=True, random_state=42)\n",
    "\n",
    "X = pd.DataFrame.from_records(dmh.format_rows(twenty_train), columns= ['text'])\n",
    "X['category'] = twenty_train.target\n",
    "X['category_name'] = X.category.apply(lambda t: dmh.format_labels(t, twenty_train))\n",
    "X.iloc[15:2000:5,0:4:2][0:15]"
   ]
  },
  {
   "cell_type": "markdown",
   "metadata": {},
   "source": [
    "---"
   ]
  },
  {
   "cell_type": "markdown",
   "metadata": {},
   "source": [
    "Exercise 5 (take home):\n",
    "\n",
    "There is an old saying that goes, \"The devil is in the details.\" When we are working with extremely large data, it's difficult to check records one by one (as we have been doing so far). And also, we don't even know what kind of missing values we are facing. Thus, \"debugging\" skills get sharper as we spend more time solving bugs. Let's focus on a different method to check for missing values and the kinds of missing values you may encounter. It's not easy to check for missing values as you will find out in a minute.\n",
    "\n",
    "Please check the data and the process below, describe what you observe and why it happened.   \n",
    "$Hint$ :  why `.isnull()` didn't work?"
   ]
  },
  {
   "cell_type": "code",
   "execution_count": 2,
   "metadata": {},
   "outputs": [
    {
     "data": {
      "text/html": [
       "<div>\n",
       "<style scoped>\n",
       "    .dataframe tbody tr th:only-of-type {\n",
       "        vertical-align: middle;\n",
       "    }\n",
       "\n",
       "    .dataframe tbody tr th {\n",
       "        vertical-align: top;\n",
       "    }\n",
       "\n",
       "    .dataframe thead th {\n",
       "        text-align: right;\n",
       "    }\n",
       "</style>\n",
       "<table border=\"1\" class=\"dataframe\">\n",
       "  <thead>\n",
       "    <tr style=\"text-align: right;\">\n",
       "      <th></th>\n",
       "      <th>id</th>\n",
       "      <th>missing_example</th>\n",
       "    </tr>\n",
       "  </thead>\n",
       "  <tbody>\n",
       "    <tr>\n",
       "      <th>0</th>\n",
       "      <td>A</td>\n",
       "      <td>NaN</td>\n",
       "    </tr>\n",
       "    <tr>\n",
       "      <th>1</th>\n",
       "      <td>B</td>\n",
       "      <td>NaN</td>\n",
       "    </tr>\n",
       "    <tr>\n",
       "      <th>2</th>\n",
       "      <td>C</td>\n",
       "      <td>NaN</td>\n",
       "    </tr>\n",
       "    <tr>\n",
       "      <th>3</th>\n",
       "      <td>D</td>\n",
       "      <td>None</td>\n",
       "    </tr>\n",
       "    <tr>\n",
       "      <th>4</th>\n",
       "      <td>E</td>\n",
       "      <td>None</td>\n",
       "    </tr>\n",
       "    <tr>\n",
       "      <th>5</th>\n",
       "      <td>F</td>\n",
       "      <td></td>\n",
       "    </tr>\n",
       "  </tbody>\n",
       "</table>\n",
       "</div>"
      ],
      "text/plain": [
       "  id missing_example\n",
       "0  A             NaN\n",
       "1  B             NaN\n",
       "2  C             NaN\n",
       "3  D            None\n",
       "4  E            None\n",
       "5  F                "
      ]
     },
     "execution_count": 2,
     "metadata": {},
     "output_type": "execute_result"
    }
   ],
   "source": [
    "import numpy as np\n",
    "\n",
    "NA_dict = [{ 'id': 'A', 'missing_example': np.nan },\n",
    "           { 'id': 'B'                    },\n",
    "           { 'id': 'C', 'missing_example': 'NaN'  },\n",
    "           { 'id': 'D', 'missing_example': 'None' },\n",
    "           { 'id': 'E', 'missing_example':  None  },\n",
    "           { 'id': 'F', 'missing_example': ''     }]\n",
    "\n",
    "NA_df = pd.DataFrame(NA_dict, columns = ['id','missing_example'])\n",
    "NA_df"
   ]
  },
  {
   "cell_type": "code",
   "execution_count": 3,
   "metadata": {},
   "outputs": [
    {
     "data": {
      "text/plain": [
       "0     True\n",
       "1     True\n",
       "2    False\n",
       "3    False\n",
       "4     True\n",
       "5    False\n",
       "Name: missing_example, dtype: bool"
      ]
     },
     "execution_count": 3,
     "metadata": {},
     "output_type": "execute_result"
    }
   ],
   "source": [
    "NA_df['missing_example'].isnull()"
   ]
  },
  {
   "cell_type": "code",
   "execution_count": 4,
   "metadata": {},
   "outputs": [
    {
     "data": {
      "text/plain": [
       "0    True\n",
       "1    True\n",
       "2    True\n",
       "3    True\n",
       "4    True\n",
       "5    True\n",
       "Name: missing_example, dtype: bool"
      ]
     },
     "execution_count": 4,
     "metadata": {},
     "output_type": "execute_result"
    }
   ],
   "source": [
    "NA_df.replace(to_replace=['NaN','None',''], value=np.nan,inplace=True)\n",
    "NA_df['missing_example'].isnull()"
   ]
  },
  {
   "cell_type": "markdown",
   "metadata": {},
   "source": [
    "Because isnull() function can only find judge np.nan kind missing value\n",
    "\n",
    "in order to use it properly,I replace the different kind of missing value to np.nan\n",
    "\n",
    "that makes isnull() function works"
   ]
  },
  {
   "cell_type": "markdown",
   "metadata": {},
   "source": [
    "--- "
   ]
  },
  {
   "cell_type": "markdown",
   "metadata": {},
   "source": [
    " Exercise 6 (take home):\n",
    "        \n",
    "Notice any changes to the `X` dataframe? What are they? Report every change you noticed as compared to the previous state of `X`. Feel free to query and look more closely at the dataframe for these changes."
   ]
  },
  {
   "cell_type": "code",
   "execution_count": 5,
   "metadata": {},
   "outputs": [
    {
     "data": {
      "text/plain": [
       "2257"
      ]
     },
     "execution_count": 5,
     "metadata": {},
     "output_type": "execute_result"
    }
   ],
   "source": [
    "len(X)"
   ]
  },
  {
   "cell_type": "code",
   "execution_count": 6,
   "metadata": {},
   "outputs": [],
   "source": [
    "X_sample = X.sample(n=1000) #random state"
   ]
  },
  {
   "cell_type": "code",
   "execution_count": 7,
   "metadata": {},
   "outputs": [
    {
     "data": {
      "text/plain": [
       "1000"
      ]
     },
     "execution_count": 7,
     "metadata": {},
     "output_type": "execute_result"
    }
   ],
   "source": [
    "len(X_sample)"
   ]
  },
  {
   "cell_type": "code",
   "execution_count": 8,
   "metadata": {},
   "outputs": [
    {
     "data": {
      "text/html": [
       "<div>\n",
       "<style scoped>\n",
       "    .dataframe tbody tr th:only-of-type {\n",
       "        vertical-align: middle;\n",
       "    }\n",
       "\n",
       "    .dataframe tbody tr th {\n",
       "        vertical-align: top;\n",
       "    }\n",
       "\n",
       "    .dataframe thead th {\n",
       "        text-align: right;\n",
       "    }\n",
       "</style>\n",
       "<table border=\"1\" class=\"dataframe\">\n",
       "  <thead>\n",
       "    <tr style=\"text-align: right;\">\n",
       "      <th></th>\n",
       "      <th>text</th>\n",
       "      <th>category</th>\n",
       "      <th>category_name</th>\n",
       "    </tr>\n",
       "  </thead>\n",
       "  <tbody>\n",
       "    <tr>\n",
       "      <th>0</th>\n",
       "      <td>From: sd345@city.ac.uk (Michael Collier) Subje...</td>\n",
       "      <td>1</td>\n",
       "      <td>comp.graphics</td>\n",
       "    </tr>\n",
       "    <tr>\n",
       "      <th>1</th>\n",
       "      <td>From: ani@ms.uky.edu (Aniruddha B. Deglurkar) ...</td>\n",
       "      <td>1</td>\n",
       "      <td>comp.graphics</td>\n",
       "    </tr>\n",
       "    <tr>\n",
       "      <th>4</th>\n",
       "      <td>From: stanly@grok11.columbiasc.ncr.com (stanly...</td>\n",
       "      <td>3</td>\n",
       "      <td>soc.religion.christian</td>\n",
       "    </tr>\n",
       "    <tr>\n",
       "      <th>5</th>\n",
       "      <td>From: vbv@lor.eeap.cwru.edu (Virgilio (Dean) B...</td>\n",
       "      <td>3</td>\n",
       "      <td>soc.religion.christian</td>\n",
       "    </tr>\n",
       "    <tr>\n",
       "      <th>7</th>\n",
       "      <td>From: aldridge@netcom.com (Jacquelin Aldridge)...</td>\n",
       "      <td>2</td>\n",
       "      <td>sci.med</td>\n",
       "    </tr>\n",
       "    <tr>\n",
       "      <th>11</th>\n",
       "      <td>From: amjad@eng.umd.edu (Amjad A Soomro) Subje...</td>\n",
       "      <td>1</td>\n",
       "      <td>comp.graphics</td>\n",
       "    </tr>\n",
       "    <tr>\n",
       "      <th>13</th>\n",
       "      <td>Subject: So what is Maddi? From: madhaus@netco...</td>\n",
       "      <td>0</td>\n",
       "      <td>alt.atheism</td>\n",
       "    </tr>\n",
       "    <tr>\n",
       "      <th>14</th>\n",
       "      <td>From: sloan@cis.uab.edu (Kenneth Sloan) Subjec...</td>\n",
       "      <td>1</td>\n",
       "      <td>comp.graphics</td>\n",
       "    </tr>\n",
       "    <tr>\n",
       "      <th>18</th>\n",
       "      <td>From: tom_milligan@rainbow.mentorg.com Subject...</td>\n",
       "      <td>3</td>\n",
       "      <td>soc.religion.christian</td>\n",
       "    </tr>\n",
       "    <tr>\n",
       "      <th>20</th>\n",
       "      <td>From: dotsonm@dmapub.dma.org (Mark Dotson) Sub...</td>\n",
       "      <td>3</td>\n",
       "      <td>soc.religion.christian</td>\n",
       "    </tr>\n",
       "    <tr>\n",
       "      <th>21</th>\n",
       "      <td>From: gmiller@worldbank.org (Gene C. Miller) S...</td>\n",
       "      <td>0</td>\n",
       "      <td>alt.atheism</td>\n",
       "    </tr>\n",
       "    <tr>\n",
       "      <th>23</th>\n",
       "      <td>From: d91-hes@tekn.hj.se (STEFAN HERMANSSON) S...</td>\n",
       "      <td>1</td>\n",
       "      <td>comp.graphics</td>\n",
       "    </tr>\n",
       "    <tr>\n",
       "      <th>25</th>\n",
       "      <td>From: dstampe@psych.toronto.edu (Dave Stampe) ...</td>\n",
       "      <td>1</td>\n",
       "      <td>comp.graphics</td>\n",
       "    </tr>\n",
       "    <tr>\n",
       "      <th>29</th>\n",
       "      <td>From: spp@zabriskie.berkeley.edu (Steve Pope) ...</td>\n",
       "      <td>2</td>\n",
       "      <td>sci.med</td>\n",
       "    </tr>\n",
       "    <tr>\n",
       "      <th>32</th>\n",
       "      <td>From: doyle+@pitt.edu (Howard R Doyle) Subject...</td>\n",
       "      <td>2</td>\n",
       "      <td>sci.med</td>\n",
       "    </tr>\n",
       "    <tr>\n",
       "      <th>35</th>\n",
       "      <td>From: BOCHERC@hartwick.edu Subject: Does God L...</td>\n",
       "      <td>3</td>\n",
       "      <td>soc.religion.christian</td>\n",
       "    </tr>\n",
       "    <tr>\n",
       "      <th>36</th>\n",
       "      <td>From: keith@cco.caltech.edu (Keith Allan Schne...</td>\n",
       "      <td>0</td>\n",
       "      <td>alt.atheism</td>\n",
       "    </tr>\n",
       "    <tr>\n",
       "      <th>39</th>\n",
       "      <td>From: g9134255@wampyr.cc.uow.edu.au (Coronado ...</td>\n",
       "      <td>1</td>\n",
       "      <td>comp.graphics</td>\n",
       "    </tr>\n",
       "    <tr>\n",
       "      <th>40</th>\n",
       "      <td>From: david-s@hsr.no (David A. Sjoen) Subject:...</td>\n",
       "      <td>3</td>\n",
       "      <td>soc.religion.christian</td>\n",
       "    </tr>\n",
       "    <tr>\n",
       "      <th>43</th>\n",
       "      <td>From: zyeh@caspian.usc.edu (zhenghao yeh) Subj...</td>\n",
       "      <td>1</td>\n",
       "      <td>comp.graphics</td>\n",
       "    </tr>\n",
       "    <tr>\n",
       "      <th>46</th>\n",
       "      <td>From: jkellett@netcom.com (Joe Kellett) Subjec...</td>\n",
       "      <td>3</td>\n",
       "      <td>soc.religion.christian</td>\n",
       "    </tr>\n",
       "    <tr>\n",
       "      <th>49</th>\n",
       "      <td>From: jimj@contractor.EBay.Sun.COM (Jim Jones)...</td>\n",
       "      <td>2</td>\n",
       "      <td>sci.med</td>\n",
       "    </tr>\n",
       "    <tr>\n",
       "      <th>51</th>\n",
       "      <td>From: noring@netcom.com (Jon Noring) Subject: ...</td>\n",
       "      <td>2</td>\n",
       "      <td>sci.med</td>\n",
       "    </tr>\n",
       "    <tr>\n",
       "      <th>53</th>\n",
       "      <td>From: mathew &lt;mathew@mantis.co.uk&gt; Subject: Re...</td>\n",
       "      <td>0</td>\n",
       "      <td>alt.atheism</td>\n",
       "    </tr>\n",
       "    <tr>\n",
       "      <th>56</th>\n",
       "      <td>From: kaminski@netcom.com (Peter Kaminski) Sub...</td>\n",
       "      <td>2</td>\n",
       "      <td>sci.med</td>\n",
       "    </tr>\n",
       "    <tr>\n",
       "      <th>58</th>\n",
       "      <td>From: timmbake@mcl.ucsb.edu (Bake Timmons) Sub...</td>\n",
       "      <td>0</td>\n",
       "      <td>alt.atheism</td>\n",
       "    </tr>\n",
       "    <tr>\n",
       "      <th>60</th>\n",
       "      <td>From: Nanci Ann Miller &lt;nm0w+@andrew.cmu.edu&gt; ...</td>\n",
       "      <td>0</td>\n",
       "      <td>alt.atheism</td>\n",
       "    </tr>\n",
       "    <tr>\n",
       "      <th>61</th>\n",
       "      <td>From: gifford@oasys.dt.navy.mil (Barbara Giffo...</td>\n",
       "      <td>3</td>\n",
       "      <td>soc.religion.christian</td>\n",
       "    </tr>\n",
       "    <tr>\n",
       "      <th>62</th>\n",
       "      <td>From: capelli@vnet.IBM.COM (Ron Capelli) Subje...</td>\n",
       "      <td>1</td>\n",
       "      <td>comp.graphics</td>\n",
       "    </tr>\n",
       "    <tr>\n",
       "      <th>63</th>\n",
       "      <td>From: carl@SOL1.GPS.CALTECH.EDU (Carl J Lydick...</td>\n",
       "      <td>2</td>\n",
       "      <td>sci.med</td>\n",
       "    </tr>\n",
       "    <tr>\n",
       "      <th>...</th>\n",
       "      <td>...</td>\n",
       "      <td>...</td>\n",
       "      <td>...</td>\n",
       "    </tr>\n",
       "    <tr>\n",
       "      <th>2173</th>\n",
       "      <td>From: reedr@cgsvax.claremont.edu Subject: Re: ...</td>\n",
       "      <td>3</td>\n",
       "      <td>soc.religion.christian</td>\n",
       "    </tr>\n",
       "    <tr>\n",
       "      <th>2175</th>\n",
       "      <td>Organization: City University of New York From...</td>\n",
       "      <td>1</td>\n",
       "      <td>comp.graphics</td>\n",
       "    </tr>\n",
       "    <tr>\n",
       "      <th>2177</th>\n",
       "      <td>From: cerulean@access.digex.com (Bill Christen...</td>\n",
       "      <td>2</td>\n",
       "      <td>sci.med</td>\n",
       "    </tr>\n",
       "    <tr>\n",
       "      <th>2181</th>\n",
       "      <td>From: phs431d@vaxc.cc.monash.edu.au Subject: R...</td>\n",
       "      <td>3</td>\n",
       "      <td>soc.religion.christian</td>\n",
       "    </tr>\n",
       "    <tr>\n",
       "      <th>2185</th>\n",
       "      <td>From: freemant@dcs.glasgow.ac.uk (Toby Freeman...</td>\n",
       "      <td>1</td>\n",
       "      <td>comp.graphics</td>\n",
       "    </tr>\n",
       "    <tr>\n",
       "      <th>2186</th>\n",
       "      <td>Subject: Re: Can't Breathe -- Update From: RGI...</td>\n",
       "      <td>2</td>\n",
       "      <td>sci.med</td>\n",
       "    </tr>\n",
       "    <tr>\n",
       "      <th>2188</th>\n",
       "      <td>From: sas58295@uxa.cso.uiuc.edu (Lord Soth    ...</td>\n",
       "      <td>1</td>\n",
       "      <td>comp.graphics</td>\n",
       "    </tr>\n",
       "    <tr>\n",
       "      <th>2190</th>\n",
       "      <td>From: REXLEX@fnal.fnal.gov Subject: Re: Athies...</td>\n",
       "      <td>3</td>\n",
       "      <td>soc.religion.christian</td>\n",
       "    </tr>\n",
       "    <tr>\n",
       "      <th>2191</th>\n",
       "      <td>From: max@hilbert.cyprs.rain.com (Max Webb) Su...</td>\n",
       "      <td>3</td>\n",
       "      <td>soc.religion.christian</td>\n",
       "    </tr>\n",
       "    <tr>\n",
       "      <th>2192</th>\n",
       "      <td>From: tmc@spartan.ac.BrockU.CA (Tim Ciceran) S...</td>\n",
       "      <td>1</td>\n",
       "      <td>comp.graphics</td>\n",
       "    </tr>\n",
       "    <tr>\n",
       "      <th>2194</th>\n",
       "      <td>From: rind@enterprise.bih.harvard.edu (David R...</td>\n",
       "      <td>2</td>\n",
       "      <td>sci.med</td>\n",
       "    </tr>\n",
       "    <tr>\n",
       "      <th>2197</th>\n",
       "      <td>From: keith@cco.caltech.edu (Keith Allan Schne...</td>\n",
       "      <td>0</td>\n",
       "      <td>alt.atheism</td>\n",
       "    </tr>\n",
       "    <tr>\n",
       "      <th>2201</th>\n",
       "      <td>From: kai_h@postoffice.utas.edu.au (Kai Howell...</td>\n",
       "      <td>1</td>\n",
       "      <td>comp.graphics</td>\n",
       "    </tr>\n",
       "    <tr>\n",
       "      <th>2206</th>\n",
       "      <td>From: jsledd@ssdc.sas.upenn.edu (James Sledd) ...</td>\n",
       "      <td>3</td>\n",
       "      <td>soc.religion.christian</td>\n",
       "    </tr>\n",
       "    <tr>\n",
       "      <th>2208</th>\n",
       "      <td>From: jkellett@netcom.com (Joe Kellett) Subjec...</td>\n",
       "      <td>3</td>\n",
       "      <td>soc.religion.christian</td>\n",
       "    </tr>\n",
       "    <tr>\n",
       "      <th>2209</th>\n",
       "      <td>From: bbenowit@telesciences.com (Barry D Benow...</td>\n",
       "      <td>2</td>\n",
       "      <td>sci.med</td>\n",
       "    </tr>\n",
       "    <tr>\n",
       "      <th>2210</th>\n",
       "      <td>From: edimg@willard.atl.ga.us (Ed pimentel) Su...</td>\n",
       "      <td>1</td>\n",
       "      <td>comp.graphics</td>\n",
       "    </tr>\n",
       "    <tr>\n",
       "      <th>2214</th>\n",
       "      <td>From: tychay@cco.caltech.edu (Terrence Y. Chay...</td>\n",
       "      <td>1</td>\n",
       "      <td>comp.graphics</td>\n",
       "    </tr>\n",
       "    <tr>\n",
       "      <th>2216</th>\n",
       "      <td>Subject: Re: Speculations From: dgraham@bmers3...</td>\n",
       "      <td>0</td>\n",
       "      <td>alt.atheism</td>\n",
       "    </tr>\n",
       "    <tr>\n",
       "      <th>2218</th>\n",
       "      <td>From: bennett@kuhub.cc.ukans.edu Subject: Smok...</td>\n",
       "      <td>2</td>\n",
       "      <td>sci.med</td>\n",
       "    </tr>\n",
       "    <tr>\n",
       "      <th>2221</th>\n",
       "      <td>From: mcovingt@aisun3.ai.uga.edu (Michael Covi...</td>\n",
       "      <td>3</td>\n",
       "      <td>soc.religion.christian</td>\n",
       "    </tr>\n",
       "    <tr>\n",
       "      <th>2227</th>\n",
       "      <td>From: halat@pooh.bears (Jim Halat) Subject: Re...</td>\n",
       "      <td>0</td>\n",
       "      <td>alt.atheism</td>\n",
       "    </tr>\n",
       "    <tr>\n",
       "      <th>2228</th>\n",
       "      <td>From: bil@okcforum.osrhe.edu (Bill Conner) Sub...</td>\n",
       "      <td>0</td>\n",
       "      <td>alt.atheism</td>\n",
       "    </tr>\n",
       "    <tr>\n",
       "      <th>2235</th>\n",
       "      <td>From: dougb@comm.mot.com (Doug Bank) Subject: ...</td>\n",
       "      <td>2</td>\n",
       "      <td>sci.med</td>\n",
       "    </tr>\n",
       "    <tr>\n",
       "      <th>2236</th>\n",
       "      <td>From: dkusswur@falcon.depaul.edu (Daniel C. Ku...</td>\n",
       "      <td>1</td>\n",
       "      <td>comp.graphics</td>\n",
       "    </tr>\n",
       "    <tr>\n",
       "      <th>2237</th>\n",
       "      <td>From: datepper@phoenix.Princeton.EDU (David Aa...</td>\n",
       "      <td>0</td>\n",
       "      <td>alt.atheism</td>\n",
       "    </tr>\n",
       "    <tr>\n",
       "      <th>2238</th>\n",
       "      <td>From: jim.zisfein@factory.com (Jim Zisfein)  S...</td>\n",
       "      <td>2</td>\n",
       "      <td>sci.med</td>\n",
       "    </tr>\n",
       "    <tr>\n",
       "      <th>2246</th>\n",
       "      <td>From: lmvec@westminster.ac.uk (William Hargrea...</td>\n",
       "      <td>3</td>\n",
       "      <td>soc.religion.christian</td>\n",
       "    </tr>\n",
       "    <tr>\n",
       "      <th>2251</th>\n",
       "      <td>From: Mark-Tarbell@suite.com Subject: Amniocen...</td>\n",
       "      <td>2</td>\n",
       "      <td>sci.med</td>\n",
       "    </tr>\n",
       "    <tr>\n",
       "      <th>2256</th>\n",
       "      <td>From: dyer@spdcc.com (Steve Dyer) Subject: Re:...</td>\n",
       "      <td>2</td>\n",
       "      <td>sci.med</td>\n",
       "    </tr>\n",
       "  </tbody>\n",
       "</table>\n",
       "<p>1000 rows × 3 columns</p>\n",
       "</div>"
      ],
      "text/plain": [
       "                                                   text  category  \\\n",
       "0     From: sd345@city.ac.uk (Michael Collier) Subje...         1   \n",
       "1     From: ani@ms.uky.edu (Aniruddha B. Deglurkar) ...         1   \n",
       "4     From: stanly@grok11.columbiasc.ncr.com (stanly...         3   \n",
       "5     From: vbv@lor.eeap.cwru.edu (Virgilio (Dean) B...         3   \n",
       "7     From: aldridge@netcom.com (Jacquelin Aldridge)...         2   \n",
       "11    From: amjad@eng.umd.edu (Amjad A Soomro) Subje...         1   \n",
       "13    Subject: So what is Maddi? From: madhaus@netco...         0   \n",
       "14    From: sloan@cis.uab.edu (Kenneth Sloan) Subjec...         1   \n",
       "18    From: tom_milligan@rainbow.mentorg.com Subject...         3   \n",
       "20    From: dotsonm@dmapub.dma.org (Mark Dotson) Sub...         3   \n",
       "21    From: gmiller@worldbank.org (Gene C. Miller) S...         0   \n",
       "23    From: d91-hes@tekn.hj.se (STEFAN HERMANSSON) S...         1   \n",
       "25    From: dstampe@psych.toronto.edu (Dave Stampe) ...         1   \n",
       "29    From: spp@zabriskie.berkeley.edu (Steve Pope) ...         2   \n",
       "32    From: doyle+@pitt.edu (Howard R Doyle) Subject...         2   \n",
       "35    From: BOCHERC@hartwick.edu Subject: Does God L...         3   \n",
       "36    From: keith@cco.caltech.edu (Keith Allan Schne...         0   \n",
       "39    From: g9134255@wampyr.cc.uow.edu.au (Coronado ...         1   \n",
       "40    From: david-s@hsr.no (David A. Sjoen) Subject:...         3   \n",
       "43    From: zyeh@caspian.usc.edu (zhenghao yeh) Subj...         1   \n",
       "46    From: jkellett@netcom.com (Joe Kellett) Subjec...         3   \n",
       "49    From: jimj@contractor.EBay.Sun.COM (Jim Jones)...         2   \n",
       "51    From: noring@netcom.com (Jon Noring) Subject: ...         2   \n",
       "53    From: mathew <mathew@mantis.co.uk> Subject: Re...         0   \n",
       "56    From: kaminski@netcom.com (Peter Kaminski) Sub...         2   \n",
       "58    From: timmbake@mcl.ucsb.edu (Bake Timmons) Sub...         0   \n",
       "60    From: Nanci Ann Miller <nm0w+@andrew.cmu.edu> ...         0   \n",
       "61    From: gifford@oasys.dt.navy.mil (Barbara Giffo...         3   \n",
       "62    From: capelli@vnet.IBM.COM (Ron Capelli) Subje...         1   \n",
       "63    From: carl@SOL1.GPS.CALTECH.EDU (Carl J Lydick...         2   \n",
       "...                                                 ...       ...   \n",
       "2173  From: reedr@cgsvax.claremont.edu Subject: Re: ...         3   \n",
       "2175  Organization: City University of New York From...         1   \n",
       "2177  From: cerulean@access.digex.com (Bill Christen...         2   \n",
       "2181  From: phs431d@vaxc.cc.monash.edu.au Subject: R...         3   \n",
       "2185  From: freemant@dcs.glasgow.ac.uk (Toby Freeman...         1   \n",
       "2186  Subject: Re: Can't Breathe -- Update From: RGI...         2   \n",
       "2188  From: sas58295@uxa.cso.uiuc.edu (Lord Soth    ...         1   \n",
       "2190  From: REXLEX@fnal.fnal.gov Subject: Re: Athies...         3   \n",
       "2191  From: max@hilbert.cyprs.rain.com (Max Webb) Su...         3   \n",
       "2192  From: tmc@spartan.ac.BrockU.CA (Tim Ciceran) S...         1   \n",
       "2194  From: rind@enterprise.bih.harvard.edu (David R...         2   \n",
       "2197  From: keith@cco.caltech.edu (Keith Allan Schne...         0   \n",
       "2201  From: kai_h@postoffice.utas.edu.au (Kai Howell...         1   \n",
       "2206  From: jsledd@ssdc.sas.upenn.edu (James Sledd) ...         3   \n",
       "2208  From: jkellett@netcom.com (Joe Kellett) Subjec...         3   \n",
       "2209  From: bbenowit@telesciences.com (Barry D Benow...         2   \n",
       "2210  From: edimg@willard.atl.ga.us (Ed pimentel) Su...         1   \n",
       "2214  From: tychay@cco.caltech.edu (Terrence Y. Chay...         1   \n",
       "2216  Subject: Re: Speculations From: dgraham@bmers3...         0   \n",
       "2218  From: bennett@kuhub.cc.ukans.edu Subject: Smok...         2   \n",
       "2221  From: mcovingt@aisun3.ai.uga.edu (Michael Covi...         3   \n",
       "2227  From: halat@pooh.bears (Jim Halat) Subject: Re...         0   \n",
       "2228  From: bil@okcforum.osrhe.edu (Bill Conner) Sub...         0   \n",
       "2235  From: dougb@comm.mot.com (Doug Bank) Subject: ...         2   \n",
       "2236  From: dkusswur@falcon.depaul.edu (Daniel C. Ku...         1   \n",
       "2237  From: datepper@phoenix.Princeton.EDU (David Aa...         0   \n",
       "2238  From: jim.zisfein@factory.com (Jim Zisfein)  S...         2   \n",
       "2246  From: lmvec@westminster.ac.uk (William Hargrea...         3   \n",
       "2251  From: Mark-Tarbell@suite.com Subject: Amniocen...         2   \n",
       "2256  From: dyer@spdcc.com (Steve Dyer) Subject: Re:...         2   \n",
       "\n",
       "               category_name  \n",
       "0              comp.graphics  \n",
       "1              comp.graphics  \n",
       "4     soc.religion.christian  \n",
       "5     soc.religion.christian  \n",
       "7                    sci.med  \n",
       "11             comp.graphics  \n",
       "13               alt.atheism  \n",
       "14             comp.graphics  \n",
       "18    soc.religion.christian  \n",
       "20    soc.religion.christian  \n",
       "21               alt.atheism  \n",
       "23             comp.graphics  \n",
       "25             comp.graphics  \n",
       "29                   sci.med  \n",
       "32                   sci.med  \n",
       "35    soc.religion.christian  \n",
       "36               alt.atheism  \n",
       "39             comp.graphics  \n",
       "40    soc.religion.christian  \n",
       "43             comp.graphics  \n",
       "46    soc.religion.christian  \n",
       "49                   sci.med  \n",
       "51                   sci.med  \n",
       "53               alt.atheism  \n",
       "56                   sci.med  \n",
       "58               alt.atheism  \n",
       "60               alt.atheism  \n",
       "61    soc.religion.christian  \n",
       "62             comp.graphics  \n",
       "63                   sci.med  \n",
       "...                      ...  \n",
       "2173  soc.religion.christian  \n",
       "2175           comp.graphics  \n",
       "2177                 sci.med  \n",
       "2181  soc.religion.christian  \n",
       "2185           comp.graphics  \n",
       "2186                 sci.med  \n",
       "2188           comp.graphics  \n",
       "2190  soc.religion.christian  \n",
       "2191  soc.religion.christian  \n",
       "2192           comp.graphics  \n",
       "2194                 sci.med  \n",
       "2197             alt.atheism  \n",
       "2201           comp.graphics  \n",
       "2206  soc.religion.christian  \n",
       "2208  soc.religion.christian  \n",
       "2209                 sci.med  \n",
       "2210           comp.graphics  \n",
       "2214           comp.graphics  \n",
       "2216             alt.atheism  \n",
       "2218                 sci.med  \n",
       "2221  soc.religion.christian  \n",
       "2227             alt.atheism  \n",
       "2228             alt.atheism  \n",
       "2235                 sci.med  \n",
       "2236           comp.graphics  \n",
       "2237             alt.atheism  \n",
       "2238                 sci.med  \n",
       "2246  soc.religion.christian  \n",
       "2251                 sci.med  \n",
       "2256                 sci.med  \n",
       "\n",
       "[1000 rows x 3 columns]"
      ]
     },
     "execution_count": 8,
     "metadata": {},
     "output_type": "execute_result"
    }
   ],
   "source": [
    "X_sample.sort_index()"
   ]
  },
  {
   "cell_type": "markdown",
   "metadata": {},
   "source": [
    "I found that X_sample is random select form X , everytime I try to sample it,\n",
    "\n",
    "X_sample is different , I thought that if I want to get the proper subset from X,\n",
    "\n",
    "I should add some conditions like 'sample from each category proportional "
   ]
  },
  {
   "cell_type": "markdown",
   "metadata": {},
   "source": [
    "---"
   ]
  },
  {
   "cell_type": "markdown",
   "metadata": {},
   "source": [
    "Exercise 8 (take home):\n",
    "\n",
    "We can also do a side-by-side comparison of the distribution between the two datasets, but maybe you can try that as an excerise. Below we show you an snapshot of the type of chart we are looking for. "
   ]
  },
  {
   "cell_type": "markdown",
   "metadata": {},
   "source": [
    "![alt txt](https://i.imgur.com/9eO431H.png)"
   ]
  },
  {
   "cell_type": "code",
   "execution_count": 9,
   "metadata": {},
   "outputs": [
    {
     "data": {
      "text/plain": [
       "Text(0.5,1,'Category distribution')"
      ]
     },
     "execution_count": 9,
     "metadata": {},
     "output_type": "execute_result"
    }
   ],
   "source": [
    "import matplotlib.pyplot as plt\n",
    "class_a= X.category_name.value_counts()\n",
    "class_b = X_sample.category_name.value_counts()\n",
    "plt.figure(figsize=(8,6))\n",
    "plt.bar(categories, class_a, label = 'class_a', align = \"edge\", width = -0.25)\n",
    "plt.bar(categories, class_b, label = 'class_b', align = \"edge\", width = 0.25)\n",
    "plt.legend(labels=['X','X_sample'])\n",
    "plt.ylabel('counts')\n",
    "plt.title('Category distribution')"
   ]
  },
  {
   "cell_type": "markdown",
   "metadata": {},
   "source": [
    "---"
   ]
  },
  {
   "cell_type": "markdown",
   "metadata": {},
   "source": [
    " Exercise 10 (take home):\n",
    " \n",
    "We said that the `1` at the beginning of the fifth record represents the `00` term. Notice that there is another 1 in the same record. Can you provide code that can verify what word this 1 represents from the vocabulary. Try to do this as efficient as possible."
   ]
  },
  {
   "cell_type": "code",
   "execution_count": null,
   "metadata": {},
   "outputs": [],
   "source": []
  },
  {
   "cell_type": "markdown",
   "metadata": {},
   "source": [
    "---"
   ]
  },
  {
   "cell_type": "markdown",
   "metadata": {},
   "source": [
    "Exercise 11 (take home):\n",
    "\n",
    "From the chart above, we can see how sparse the term-document matrix is; i.e., there is only one terms with frequency of `1` in the subselection of the matrix. By the way, you may have noticed that we only selected 20 articles and 20 terms to plot the histrogram. As an excersise you can try to modify the code above to plot the entire term-document matrix or just a sample of it. How would you do this efficiently? Remember there is a lot of words in the vocab. Report below what methods you would use to get a nice and useful visualization"
   ]
  },
  {
   "cell_type": "code",
   "execution_count": null,
   "metadata": {},
   "outputs": [],
   "source": []
  },
  {
   "cell_type": "markdown",
   "metadata": {},
   "source": [
    "---"
   ]
  },
  {
   "cell_type": "markdown",
   "metadata": {},
   "source": [
    " Exercise 12 (take home):\n",
    " \n",
    "Please try to reduce the dimension to 3, and plot the result use 3-D plot. Use at least 3 different angle (camera position) to check your result and describe what you found.\n",
    "\n",
    "$Hint$: you can refer to Axes3D in the documentation."
   ]
  },
  {
   "cell_type": "code",
   "execution_count": null,
   "metadata": {},
   "outputs": [],
   "source": []
  },
  {
   "cell_type": "markdown",
   "metadata": {},
   "source": [
    "---"
   ]
  },
  {
   "cell_type": "markdown",
   "metadata": {},
   "source": [
    "Exercise 13 (take home):\n",
    " \n",
    "If you want a nicer interactive visualization here, I would encourage you try to install and use plotly to achieve this."
   ]
  },
  {
   "cell_type": "code",
   "execution_count": null,
   "metadata": {},
   "outputs": [],
   "source": []
  },
  {
   "cell_type": "markdown",
   "metadata": {},
   "source": [
    "---"
   ]
  },
  {
   "cell_type": "markdown",
   "metadata": {},
   "source": [
    "Exercise 14 (take home):\n",
    "\n",
    "The chart above contains all the vocabulary, and it's computationally intensive to both compute and visualize. Can you efficiently reduce the number of terms you want to visualize as an exercise. "
   ]
  },
  {
   "cell_type": "code",
   "execution_count": null,
   "metadata": {},
   "outputs": [],
   "source": []
  },
  {
   "cell_type": "markdown",
   "metadata": {},
   "source": [
    "---"
   ]
  },
  {
   "cell_type": "markdown",
   "metadata": {},
   "source": [
    "Exercise 15 (take home):\n",
    "\n",
    "Additionally, you can attempt to sort the terms on the `x-axis` by frequency instead of in alphabetical order. This way the visualization is more meaninfgul and you will be able to observe the so called [long tail](https://en.wikipedia.org/wiki/Long_tail) (get familiar with this term since it will appear a lot in data mining and other statistics courses). see picture below\n",
    "\n",
    "![alt txt](https://upload.wikimedia.org/wikipedia/commons/thumb/8/8a/Long_tail.svg/1000px-Long_tail.svg.png)"
   ]
  },
  {
   "cell_type": "code",
   "execution_count": null,
   "metadata": {},
   "outputs": [],
   "source": []
  },
  {
   "cell_type": "markdown",
   "metadata": {},
   "source": [
    "---"
   ]
  },
  {
   "cell_type": "markdown",
   "metadata": {},
   "source": [
    "Exercise 16 (take home):\n",
    "\n",
    "Try to generate the binarization using the `category_name` column instead. Does it work?"
   ]
  },
  {
   "cell_type": "code",
   "execution_count": null,
   "metadata": {},
   "outputs": [],
   "source": []
  },
  {
   "cell_type": "code",
   "execution_count": null,
   "metadata": {},
   "outputs": [],
   "source": []
  },
  {
   "cell_type": "markdown",
   "metadata": {},
   "source": [
    "###  > Second - The new dataset,follow the steps in DM Lab1 msater"
   ]
  },
  {
   "cell_type": "code",
   "execution_count": 292,
   "metadata": {},
   "outputs": [
    {
     "data": {
      "text/html": [
       "<div>\n",
       "<style scoped>\n",
       "    .dataframe tbody tr th:only-of-type {\n",
       "        vertical-align: middle;\n",
       "    }\n",
       "\n",
       "    .dataframe tbody tr th {\n",
       "        vertical-align: top;\n",
       "    }\n",
       "\n",
       "    .dataframe thead th {\n",
       "        text-align: right;\n",
       "    }\n",
       "</style>\n",
       "<table border=\"1\" class=\"dataframe\">\n",
       "  <thead>\n",
       "    <tr style=\"text-align: right;\">\n",
       "      <th></th>\n",
       "      <th>sentence</th>\n",
       "      <th>score</th>\n",
       "    </tr>\n",
       "  </thead>\n",
       "  <tbody>\n",
       "    <tr>\n",
       "      <th>0</th>\n",
       "      <td>A very, very, very slow-moving, aimless movie ...</td>\n",
       "      <td>0</td>\n",
       "    </tr>\n",
       "    <tr>\n",
       "      <th>1</th>\n",
       "      <td>Not sure who was more lost - the flat characte...</td>\n",
       "      <td>0</td>\n",
       "    </tr>\n",
       "    <tr>\n",
       "      <th>2</th>\n",
       "      <td>Attempting artiness with black &amp; white and cle...</td>\n",
       "      <td>0</td>\n",
       "    </tr>\n",
       "    <tr>\n",
       "      <th>3</th>\n",
       "      <td>Very little music or anything to speak of.</td>\n",
       "      <td>0</td>\n",
       "    </tr>\n",
       "    <tr>\n",
       "      <th>4</th>\n",
       "      <td>The best scene in the movie was when Gerardo i...</td>\n",
       "      <td>1</td>\n",
       "    </tr>\n",
       "    <tr>\n",
       "      <th>5</th>\n",
       "      <td>The rest of the movie lacks art, charm, meanin...</td>\n",
       "      <td>0</td>\n",
       "    </tr>\n",
       "    <tr>\n",
       "      <th>6</th>\n",
       "      <td>Wasted two hours.</td>\n",
       "      <td>0</td>\n",
       "    </tr>\n",
       "    <tr>\n",
       "      <th>7</th>\n",
       "      <td>Saw the movie today and thought it was a good ...</td>\n",
       "      <td>1</td>\n",
       "    </tr>\n",
       "    <tr>\n",
       "      <th>8</th>\n",
       "      <td>A bit predictable.</td>\n",
       "      <td>0</td>\n",
       "    </tr>\n",
       "    <tr>\n",
       "      <th>9</th>\n",
       "      <td>Loved the casting of Jimmy Buffet as the scien...</td>\n",
       "      <td>1</td>\n",
       "    </tr>\n",
       "  </tbody>\n",
       "</table>\n",
       "</div>"
      ],
      "text/plain": [
       "                                            sentence  score\n",
       "0  A very, very, very slow-moving, aimless movie ...      0\n",
       "1  Not sure who was more lost - the flat characte...      0\n",
       "2  Attempting artiness with black & white and cle...      0\n",
       "3       Very little music or anything to speak of.        0\n",
       "4  The best scene in the movie was when Gerardo i...      1\n",
       "5  The rest of the movie lacks art, charm, meanin...      0\n",
       "6                                Wasted two hours.        0\n",
       "7  Saw the movie today and thought it was a good ...      1\n",
       "8                               A bit predictable.        0\n",
       "9  Loved the casting of Jimmy Buffet as the scien...      1"
      ]
     },
     "execution_count": 292,
     "metadata": {},
     "output_type": "execute_result"
    }
   ],
   "source": [
    "imdb = pd.read_csv('imdb_labelled.txt',sep='\\t',header = None)\n",
    "imdb.columns = ['sentence','score']\n",
    "amazon = pd.read_csv('amazon_cells_labelled.txt',sep='\\t',header = None)\n",
    "amazon.columns = ['sentence','score']\n",
    "yelp = pd.read_csv('yelp_labelled.txt',sep='\\t',header = None)\n",
    "yelp.columns = ['sentence','score']\n",
    "Y = pd.concat([imdb,amazon,yelp],axis = 0)\n",
    "Y.reset_index(drop=True, inplace=True)\n",
    "Y_test = Y.sample(n=1000)\n",
    "Y[0:10]"
   ]
  },
  {
   "cell_type": "code",
   "execution_count": 293,
   "metadata": {},
   "outputs": [
    {
     "data": {
      "text/plain": [
       "sentence    (The amoung of missing records is: , 0)\n",
       "score       (The amoung of missing records is: , 0)\n",
       "dtype: object"
      ]
     },
     "execution_count": 293,
     "metadata": {},
     "output_type": "execute_result"
    }
   ],
   "source": [
    "Y.isnull().apply(lambda x: dmh.check_missing_values(x))"
   ]
  },
  {
   "cell_type": "code",
   "execution_count": 294,
   "metadata": {},
   "outputs": [
    {
     "data": {
      "text/plain": [
       "34"
      ]
     },
     "execution_count": 294,
     "metadata": {},
     "output_type": "execute_result"
    }
   ],
   "source": [
    "len(Y[Y.duplicated('sentence',keep = False)])"
   ]
  },
  {
   "cell_type": "code",
   "execution_count": 295,
   "metadata": {},
   "outputs": [],
   "source": [
    "Y.drop_duplicates(keep='first', inplace=True)"
   ]
  },
  {
   "cell_type": "markdown",
   "metadata": {},
   "source": [
    "I cascade imdb,yelp,amazon three data set to Y \n",
    "\n",
    "check it and there is no null value in 'sentance' and 'score' columns\n",
    "\n",
    "find out there are 34 duplicate 'sentence' and they have same 'score'\n",
    "\n",
    "so I keep the duplicate 'sentance' that shows first time and delete the others."
   ]
  },
  {
   "cell_type": "code",
   "execution_count": 296,
   "metadata": {},
   "outputs": [
    {
     "data": {
      "text/plain": [
       "0    [a, very, very, very, slow, moving, aimless, m...\n",
       "1    [not, sure, who, was, more, lost, the, flat, c...\n",
       "2    [attempting, artiness, with, black, white, and...\n",
       "3    [very, little, music, or, anything, to, speak,...\n",
       "4    [the, best, scene, in, the, movie, was, when, ...\n",
       "Name: sentence, dtype: object"
      ]
     },
     "execution_count": 296,
     "metadata": {},
     "output_type": "execute_result"
    }
   ],
   "source": [
    "import nltk\n",
    "from nltk.tokenize import RegexpTokenizer\n",
    "from nltk.corpus import stopwords \n",
    "from nltk.stem import PorterStemmer\n",
    "import pandas as pd\n",
    "word_tokenize = RegexpTokenizer('\\w+')\n",
    "Y['sentence'] = Y['sentence'].str.lower()\n",
    "Y['sentence']= Y['sentence'].apply(lambda x:word_tokenize.tokenize(x))\n",
    "Y['sentence'].iloc[0:5]"
   ]
  },
  {
   "cell_type": "markdown",
   "metadata": {},
   "source": [
    "lower the letters then use RegexpTokenizer to tokenize the sentence and remove the punctuation mark"
   ]
  },
  {
   "cell_type": "code",
   "execution_count": 297,
   "metadata": {},
   "outputs": [
    {
     "data": {
      "text/plain": [
       "0    [slow, moving, aimless, movie, distressed, dri...\n",
       "1    [sure, lost, flat, characters, audience, nearl...\n",
       "2    [attempting, artiness, black, white, clever, c...\n",
       "3                     [little, music, anything, speak]\n",
       "4    [best, scene, movie, gerardo, trying, find, so...\n",
       "Name: sentence, dtype: object"
      ]
     },
     "execution_count": 297,
     "metadata": {},
     "output_type": "execute_result"
    }
   ],
   "source": [
    "stop = stopwords.words('english')\n",
    "Y['sentence']=Y['sentence'].apply(lambda x: [item for item in x if item not in stop])\n",
    "Y['sentence'].iloc[0:5]"
   ]
  },
  {
   "cell_type": "markdown",
   "metadata": {},
   "source": [
    "remove the stopwords"
   ]
  },
  {
   "cell_type": "code",
   "execution_count": 298,
   "metadata": {},
   "outputs": [
    {
     "data": {
      "text/html": [
       "<div>\n",
       "<style scoped>\n",
       "    .dataframe tbody tr th:only-of-type {\n",
       "        vertical-align: middle;\n",
       "    }\n",
       "\n",
       "    .dataframe tbody tr th {\n",
       "        vertical-align: top;\n",
       "    }\n",
       "\n",
       "    .dataframe thead th {\n",
       "        text-align: right;\n",
       "    }\n",
       "</style>\n",
       "<table border=\"1\" class=\"dataframe\">\n",
       "  <thead>\n",
       "    <tr style=\"text-align: right;\">\n",
       "      <th></th>\n",
       "      <th>sentence</th>\n",
       "      <th>score</th>\n",
       "    </tr>\n",
       "  </thead>\n",
       "  <tbody>\n",
       "    <tr>\n",
       "      <th>0</th>\n",
       "      <td>slow move aimless movi distress drift young man</td>\n",
       "      <td>0</td>\n",
       "    </tr>\n",
       "    <tr>\n",
       "      <th>1</th>\n",
       "      <td>sure lost flat charact audienc nearli half walk</td>\n",
       "      <td>0</td>\n",
       "    </tr>\n",
       "    <tr>\n",
       "      <th>2</th>\n",
       "      <td>attempt arti black white clever camera angl mo...</td>\n",
       "      <td>0</td>\n",
       "    </tr>\n",
       "    <tr>\n",
       "      <th>3</th>\n",
       "      <td>littl music anyth speak</td>\n",
       "      <td>0</td>\n",
       "    </tr>\n",
       "    <tr>\n",
       "      <th>4</th>\n",
       "      <td>best scene movi gerardo tri find song keep run...</td>\n",
       "      <td>1</td>\n",
       "    </tr>\n",
       "  </tbody>\n",
       "</table>\n",
       "</div>"
      ],
      "text/plain": [
       "                                            sentence  score\n",
       "0    slow move aimless movi distress drift young man      0\n",
       "1    sure lost flat charact audienc nearli half walk      0\n",
       "2  attempt arti black white clever camera angl mo...      0\n",
       "3                            littl music anyth speak      0\n",
       "4  best scene movi gerardo tri find song keep run...      1"
      ]
     },
     "execution_count": 298,
     "metadata": {},
     "output_type": "execute_result"
    }
   ],
   "source": [
    "stemming=PorterStemmer()\n",
    "Y['sentence']=Y['sentence'].apply(lambda x:[stemming.stem(word) for word in x])\n",
    "Y['sentence']=Y['sentence'].apply(lambda x:' '.join(x))\n",
    "Y[0:5]"
   ]
  },
  {
   "cell_type": "markdown",
   "metadata": {},
   "source": [
    "stemming the words,then return list to str\n",
    "\n",
    "After the steps above, I get the clean dataset for further analysis"
   ]
  },
  {
   "cell_type": "markdown",
   "metadata": {},
   "source": [
    "###  > Third - The new dataset,TF IDF and Naive Bayes classifier"
   ]
  },
  {
   "cell_type": "code",
   "execution_count": 299,
   "metadata": {},
   "outputs": [
    {
     "data": {
      "text/plain": [
       "Text(0.5,1,'feedback distribution')"
      ]
     },
     "execution_count": 299,
     "metadata": {},
     "output_type": "execute_result"
    },
    {
     "data": {
      "image/png": "[encoded data removed]",
      "text/plain": [
       "<Figure size 432x288 with 1 Axes>"
      ]
     },
     "metadata": {},
     "output_type": "display_data"
    }
   ],
   "source": [
    "import matplotlib.pyplot as plt\n",
    "[count0,count1]=Y['score'].value_counts()\n",
    "plt.figure()\n",
    "plt.bar(['negative','positive'],[count0,count1],width=0.5)\n",
    "plt.ylabel('counts')\n",
    "plt.title('feedback distribution')"
   ]
  },
  {
   "cell_type": "markdown",
   "metadata": {},
   "source": [
    "-\n",
    "\n",
    "For data exploration and visualization,I count the number of different kind of feedback.\n",
    "\n",
    "As the histogram , we can found that the count of different feedback is almost the same.\n",
    "\n",
    "I think it is a good news that means there is no data imblanced question.\n",
    "\n",
    "-"
   ]
  },
  {
   "cell_type": "code",
   "execution_count": 300,
   "metadata": {},
   "outputs": [
    {
     "data": {
      "text/html": [
       "<div>\n",
       "<style scoped>\n",
       "    .dataframe tbody tr th:only-of-type {\n",
       "        vertical-align: middle;\n",
       "    }\n",
       "\n",
       "    .dataframe tbody tr th {\n",
       "        vertical-align: top;\n",
       "    }\n",
       "\n",
       "    .dataframe thead th {\n",
       "        text-align: right;\n",
       "    }\n",
       "</style>\n",
       "<table border=\"1\" class=\"dataframe\">\n",
       "  <thead>\n",
       "    <tr style=\"text-align: right;\">\n",
       "      <th></th>\n",
       "      <th>count</th>\n",
       "    </tr>\n",
       "  </thead>\n",
       "  <tbody>\n",
       "    <tr>\n",
       "      <th>good</th>\n",
       "      <td>0.012677</td>\n",
       "    </tr>\n",
       "    <tr>\n",
       "      <th>movi</th>\n",
       "      <td>0.011685</td>\n",
       "    </tr>\n",
       "    <tr>\n",
       "      <th>great</th>\n",
       "      <td>0.011299</td>\n",
       "    </tr>\n",
       "    <tr>\n",
       "      <th>film</th>\n",
       "      <td>0.010417</td>\n",
       "    </tr>\n",
       "    <tr>\n",
       "      <th>phone</th>\n",
       "      <td>0.009590</td>\n",
       "    </tr>\n",
       "  </tbody>\n",
       "</table>\n",
       "</div>"
      ],
      "text/plain": [
       "          count\n",
       "good   0.012677\n",
       "movi   0.011685\n",
       "great  0.011299\n",
       "film   0.010417\n",
       "phone  0.009590"
      ]
     },
     "execution_count": 300,
     "metadata": {},
     "output_type": "execute_result"
    }
   ],
   "source": [
    "from sklearn.feature_extraction.text import CountVectorizer,TfidfTransformer\n",
    "vectorizer = CountVectorizer()\n",
    "Y_vec = vectorizer.fit_transform(Y.sentence)\n",
    "word = vectorizer.get_feature_names()\n",
    "\n",
    "words = {}\n",
    "for i in range(len(word)):\n",
    "    words[i]=word[i]\n",
    "tf = pd.DataFrame(Y_vec.toarray())\n",
    "tf = tf.rename(words,axis = 1)\n",
    "tf.loc['count']=tf.sum(axis = 0)\n",
    "\n",
    "tf_= pd.DataFrame(tf.loc['count'])\n",
    "tf_.sort_values(by = 'count',ascending=False,inplace = True)\n",
    "tf_ = tf_.apply(lambda x :x/tf_['count'].sum())\n",
    "tf_[0:5]"
   ]
  },
  {
   "cell_type": "code",
   "execution_count": 301,
   "metadata": {},
   "outputs": [
    {
     "data": {
      "text/plain": [
       "<Figure size 432x288 with 0 Axes>"
      ]
     },
     "metadata": {},
     "output_type": "display_data"
    },
    {
     "data": {
      "image/png": "[encoded data removed]",
      "text/plain": [
       "<Figure size 360x504 with 1 Axes>"
      ]
     },
     "metadata": {},
     "output_type": "display_data"
    }
   ],
   "source": [
    "plt.figure()\n",
    "tf_[0:25].plot(kind ='barh',title='word frequency',figsize=(5,7),legend = None)\n",
    "plt.show()"
   ]
  },
  {
   "cell_type": "code",
   "execution_count": 302,
   "metadata": {},
   "outputs": [
    {
     "data": {
      "text/html": [
       "<div>\n",
       "<style scoped>\n",
       "    .dataframe tbody tr th:only-of-type {\n",
       "        vertical-align: middle;\n",
       "    }\n",
       "\n",
       "    .dataframe tbody tr th {\n",
       "        vertical-align: top;\n",
       "    }\n",
       "\n",
       "    .dataframe thead th {\n",
       "        text-align: right;\n",
       "    }\n",
       "</style>\n",
       "<table border=\"1\" class=\"dataframe\">\n",
       "  <thead>\n",
       "    <tr style=\"text-align: right;\">\n",
       "      <th></th>\n",
       "      <th>tfidf</th>\n",
       "    </tr>\n",
       "  </thead>\n",
       "  <tbody>\n",
       "    <tr>\n",
       "      <th>good</th>\n",
       "      <td>0.022750</td>\n",
       "    </tr>\n",
       "    <tr>\n",
       "      <th>great</th>\n",
       "      <td>0.022483</td>\n",
       "    </tr>\n",
       "    <tr>\n",
       "      <th>movi</th>\n",
       "      <td>0.017294</td>\n",
       "    </tr>\n",
       "    <tr>\n",
       "      <th>phone</th>\n",
       "      <td>0.016553</td>\n",
       "    </tr>\n",
       "    <tr>\n",
       "      <th>work</th>\n",
       "      <td>0.015718</td>\n",
       "    </tr>\n",
       "  </tbody>\n",
       "</table>\n",
       "</div>"
      ],
      "text/plain": [
       "          tfidf\n",
       "good   0.022750\n",
       "great  0.022483\n",
       "movi   0.017294\n",
       "phone  0.016553\n",
       "work   0.015718"
      ]
     },
     "execution_count": 302,
     "metadata": {},
     "output_type": "execute_result"
    }
   ],
   "source": [
    "transformer = TfidfTransformer()\n",
    "tfidf = transformer.fit_transform(Y_vec)\n",
    "tfidf = pd.DataFrame(tfidf.toarray())\n",
    "tfidf = tfidf.rename(words,axis = 1)\n",
    "tfidf_ = pd.DataFrame(tfidf.mean(axis=0),word)\n",
    "tfidf_.columns=['tfidf']\n",
    "tfidf_.sort_values(by='tfidf',ascending=False,inplace = True)\n",
    "tfidf_[0:5]"
   ]
  },
  {
   "cell_type": "code",
   "execution_count": 303,
   "metadata": {},
   "outputs": [
    {
     "data": {
      "text/plain": [
       "<Figure size 432x288 with 0 Axes>"
      ]
     },
     "metadata": {},
     "output_type": "display_data"
    },
    {
     "data": {
      "image/png": "[encoded data removed]",
      "text/plain": [
       "<Figure size 360x504 with 1 Axes>"
      ]
     },
     "metadata": {},
     "output_type": "display_data"
    }
   ],
   "source": [
    "plt.figure()\n",
    "tfidf_[0:25].plot(kind ='barh',title='TFIDF',figsize=(5,7),legend = None)\n",
    "plt.show()"
   ]
  },
  {
   "cell_type": "markdown",
   "metadata": {},
   "source": [
    "I've done both TF(word frequency) and TF-IDF,there is just a little difference between them.\n",
    "\n",
    "I think it is because I have removed the stopwords before.\n",
    "\n",
    "as the histogram ,words like 'good','great','recommend' probably represent positive feedback.\n",
    "\n",
    "and words like 'bad','disappoint','wast' represent negative feedback.\n",
    "\n",
    "else like 'movi','film' show that the feedback is about movies, but for classification,them might be neutral."
   ]
  },
  {
   "cell_type": "code",
   "execution_count": 304,
   "metadata": {},
   "outputs": [],
   "source": [
    "from sklearn.feature_extraction.text import CountVectorizer\n",
    "count_vect = CountVectorizer()\n",
    "Y_counts = count_vect.fit_transform(Y.sentence)"
   ]
  },
  {
   "cell_type": "markdown",
   "metadata": {},
   "source": [
    "tokenize training text"
   ]
  },
  {
   "cell_type": "code",
   "execution_count": 305,
   "metadata": {},
   "outputs": [
    {
     "data": {
      "text/plain": [
       "(2983, 3942)"
      ]
     },
     "execution_count": 305,
     "metadata": {},
     "output_type": "execute_result"
    }
   ],
   "source": [
    "from sklearn.feature_extraction.text import TfidfTransformer\n",
    "tf_transformer = TfidfTransformer(use_idf=False).fit(Y_counts)\n",
    "Y_tf = tf_transformer.transform(Y_counts)\n",
    "Y_tf.shape"
   ]
  },
  {
   "cell_type": "markdown",
   "metadata": {},
   "source": [
    "generate term frequency feature"
   ]
  },
  {
   "cell_type": "code",
   "execution_count": 306,
   "metadata": {},
   "outputs": [
    {
     "data": {
      "text/plain": [
       "(2983, 3942)"
      ]
     },
     "execution_count": 306,
     "metadata": {},
     "output_type": "execute_result"
    }
   ],
   "source": [
    "tfidf_transformer = TfidfTransformer()\n",
    "Y_tfidf = tfidf_transformer.fit_transform(Y_counts)\n",
    "Y_tfidf.shape"
   ]
  },
  {
   "cell_type": "markdown",
   "metadata": {},
   "source": [
    "generate TF-IDF feature"
   ]
  },
  {
   "cell_type": "code",
   "execution_count": 307,
   "metadata": {},
   "outputs": [],
   "source": [
    "from sklearn.naive_bayes import MultinomialNB\n",
    "clf_tf = MultinomialNB().fit(Y_tf, Y.score)\n",
    "clf_tfidf = MultinomialNB().fit(Y_tfidf, Y.score)"
   ]
  },
  {
   "cell_type": "markdown",
   "metadata": {},
   "source": [
    "training two different classifier,one base on TF,another based on TF-IDF"
   ]
  },
  {
   "cell_type": "code",
   "execution_count": 308,
   "metadata": {},
   "outputs": [
    {
     "data": {
      "text/html": [
       "<div>\n",
       "<style scoped>\n",
       "    .dataframe tbody tr th:only-of-type {\n",
       "        vertical-align: middle;\n",
       "    }\n",
       "\n",
       "    .dataframe tbody tr th {\n",
       "        vertical-align: top;\n",
       "    }\n",
       "\n",
       "    .dataframe thead th {\n",
       "        text-align: right;\n",
       "    }\n",
       "</style>\n",
       "<table border=\"1\" class=\"dataframe\">\n",
       "  <thead>\n",
       "    <tr style=\"text-align: right;\">\n",
       "      <th></th>\n",
       "      <th>sentence</th>\n",
       "      <th>score</th>\n",
       "    </tr>\n",
       "  </thead>\n",
       "  <tbody>\n",
       "    <tr>\n",
       "      <th>988</th>\n",
       "      <td>It was a riot to see Hugo Weaving play a sex-o...</td>\n",
       "      <td>1</td>\n",
       "    </tr>\n",
       "    <tr>\n",
       "      <th>2087</th>\n",
       "      <td>All I have to say is the food was amazing!!!</td>\n",
       "      <td>1</td>\n",
       "    </tr>\n",
       "    <tr>\n",
       "      <th>1724</th>\n",
       "      <td>In the span of an hour, I had two people excla...</td>\n",
       "      <td>1</td>\n",
       "    </tr>\n",
       "    <tr>\n",
       "      <th>2244</th>\n",
       "      <td>like the other reviewer said \"you couldn't pay...</td>\n",
       "      <td>0</td>\n",
       "    </tr>\n",
       "    <tr>\n",
       "      <th>1735</th>\n",
       "      <td>Provides good protection and looks classy, too.</td>\n",
       "      <td>1</td>\n",
       "    </tr>\n",
       "  </tbody>\n",
       "</table>\n",
       "</div>"
      ],
      "text/plain": [
       "                                               sentence  score\n",
       "988   It was a riot to see Hugo Weaving play a sex-o...      1\n",
       "2087       All I have to say is the food was amazing!!!      1\n",
       "1724  In the span of an hour, I had two people excla...      1\n",
       "2244  like the other reviewer said \"you couldn't pay...      0\n",
       "1735    Provides good protection and looks classy, too.      1"
      ]
     },
     "execution_count": 308,
     "metadata": {},
     "output_type": "execute_result"
    }
   ],
   "source": [
    "Y_test [0:5]"
   ]
  },
  {
   "cell_type": "markdown",
   "metadata": {},
   "source": [
    "Y_test is the random from raw data"
   ]
  },
  {
   "cell_type": "code",
   "execution_count": 309,
   "metadata": {},
   "outputs": [
    {
     "data": {
      "text/plain": [
       "(1000, 3942)"
      ]
     },
     "execution_count": 309,
     "metadata": {},
     "output_type": "execute_result"
    }
   ],
   "source": [
    "Y_test_counts = count_vect.transform(Y_test.sentence)\n",
    "Y_test_counts.shape"
   ]
  },
  {
   "cell_type": "markdown",
   "metadata": {},
   "source": [
    "use 'count_vect.transform' instead of 'count_vect.fit_transform' \n",
    "\n",
    "to make testing set's features fit the features of training set"
   ]
  },
  {
   "cell_type": "code",
   "execution_count": 310,
   "metadata": {},
   "outputs": [
    {
     "data": {
      "text/plain": [
       "(1000, 3942)"
      ]
     },
     "execution_count": 310,
     "metadata": {},
     "output_type": "execute_result"
    }
   ],
   "source": [
    "Y_test_tf = tf_transformer.transform(Y_test_counts)\n",
    "Y_test_tf.shape"
   ]
  },
  {
   "cell_type": "code",
   "execution_count": 311,
   "metadata": {},
   "outputs": [
    {
     "data": {
      "text/plain": [
       "(1000, 3942)"
      ]
     },
     "execution_count": 311,
     "metadata": {},
     "output_type": "execute_result"
    }
   ],
   "source": [
    "Y_test_tfidf = tfidf_transformer.transform(Y_test_counts)\n",
    "Y_test_tfidf.shape"
   ]
  },
  {
   "cell_type": "markdown",
   "metadata": {},
   "source": [
    "check that the feature map is equivalent"
   ]
  },
  {
   "cell_type": "code",
   "execution_count": 312,
   "metadata": {},
   "outputs": [],
   "source": [
    "tf_predicted = clf_tf.predict(Y_test_tf)\n",
    "tfidf_predicted = clf_tfidf.predict(Y_test_tfidf)"
   ]
  },
  {
   "cell_type": "markdown",
   "metadata": {},
   "source": [
    "pridict the result"
   ]
  },
  {
   "cell_type": "code",
   "execution_count": 313,
   "metadata": {},
   "outputs": [
    {
     "name": "stdout",
     "output_type": "stream",
     "text": [
      "Accuracy of TF classifer is 0.812000\n",
      "Accuracy of TF-IDF classifer is 0.821000\n"
     ]
    }
   ],
   "source": [
    "import numpy as np\n",
    "tf_acc = np.mean(tf_predicted == Y_test.score)\n",
    "tfidf_acc = np.mean(tfidf_predicted == Y_test.score)\n",
    "print('Accuracy of TF classifer is {:f}'.format(tf_acc))\n",
    "print('Accuracy of TF-IDF classifer is {:f}'.format(tfidf_acc))"
   ]
  },
  {
   "cell_type": "code",
   "execution_count": 314,
   "metadata": {},
   "outputs": [
    {
     "name": "stdout",
     "output_type": "stream",
     "text": [
      "Confusion matrix of TF classifer\n"
     ]
    },
    {
     "data": {
      "text/html": [
       "<div>\n",
       "<style scoped>\n",
       "    .dataframe tbody tr th:only-of-type {\n",
       "        vertical-align: middle;\n",
       "    }\n",
       "\n",
       "    .dataframe tbody tr th {\n",
       "        vertical-align: top;\n",
       "    }\n",
       "\n",
       "    .dataframe thead th {\n",
       "        text-align: right;\n",
       "    }\n",
       "</style>\n",
       "<table border=\"1\" class=\"dataframe\">\n",
       "  <thead>\n",
       "    <tr style=\"text-align: right;\">\n",
       "      <th></th>\n",
       "      <th>Predict negative</th>\n",
       "      <th>Predict positive</th>\n",
       "    </tr>\n",
       "  </thead>\n",
       "  <tbody>\n",
       "    <tr>\n",
       "      <th>True negative</th>\n",
       "      <td>429</td>\n",
       "      <td>85</td>\n",
       "    </tr>\n",
       "    <tr>\n",
       "      <th>True positive</th>\n",
       "      <td>103</td>\n",
       "      <td>383</td>\n",
       "    </tr>\n",
       "  </tbody>\n",
       "</table>\n",
       "</div>"
      ],
      "text/plain": [
       "               Predict negative  Predict positive\n",
       "True negative               429                85\n",
       "True positive               103               383"
      ]
     },
     "execution_count": 314,
     "metadata": {},
     "output_type": "execute_result"
    }
   ],
   "source": [
    "from sklearn import metrics\n",
    "tf_matrix = pd.DataFrame(metrics.confusion_matrix(Y_test.score, tf_predicted))\n",
    "tf_matrix.rename({0:'True negative',1:'True positive'},axis = 0 ,inplace = True)\n",
    "tf_matrix.rename({0:'Predict negative',1:'Predict positive'},axis = 1 ,inplace = True)\n",
    "print('Confusion matrix of TF classifer')\n",
    "tf_matrix"
   ]
  },
  {
   "cell_type": "code",
   "execution_count": 315,
   "metadata": {},
   "outputs": [
    {
     "name": "stdout",
     "output_type": "stream",
     "text": [
      "Confusion matrix of TF-IDF classifer\n"
     ]
    },
    {
     "data": {
      "text/html": [
       "<div>\n",
       "<style scoped>\n",
       "    .dataframe tbody tr th:only-of-type {\n",
       "        vertical-align: middle;\n",
       "    }\n",
       "\n",
       "    .dataframe tbody tr th {\n",
       "        vertical-align: top;\n",
       "    }\n",
       "\n",
       "    .dataframe thead th {\n",
       "        text-align: right;\n",
       "    }\n",
       "</style>\n",
       "<table border=\"1\" class=\"dataframe\">\n",
       "  <thead>\n",
       "    <tr style=\"text-align: right;\">\n",
       "      <th></th>\n",
       "      <th>Predict negative</th>\n",
       "      <th>Predict positive</th>\n",
       "    </tr>\n",
       "  </thead>\n",
       "  <tbody>\n",
       "    <tr>\n",
       "      <th>True negative</th>\n",
       "      <td>429</td>\n",
       "      <td>85</td>\n",
       "    </tr>\n",
       "    <tr>\n",
       "      <th>True positive</th>\n",
       "      <td>94</td>\n",
       "      <td>392</td>\n",
       "    </tr>\n",
       "  </tbody>\n",
       "</table>\n",
       "</div>"
      ],
      "text/plain": [
       "               Predict negative  Predict positive\n",
       "True negative               429                85\n",
       "True positive                94               392"
      ]
     },
     "execution_count": 315,
     "metadata": {},
     "output_type": "execute_result"
    }
   ],
   "source": [
    "tfidf_matrix = pd.DataFrame(metrics.confusion_matrix(Y_test.score, tfidf_predicted))\n",
    "tfidf_matrix.rename({0:'True negative',1:'True positive'},axis = 0 ,inplace = True)\n",
    "tfidf_matrix.rename({0:'Predict negative',1:'Predict positive'},axis = 1 ,inplace = True)\n",
    "print('Confusion matrix of TF-IDF classifer')\n",
    "tfidf_matrix"
   ]
  },
  {
   "cell_type": "markdown",
   "metadata": {},
   "source": [
    "from the result we can observe that the performance of TF-IDF classifier is slightly better than TF classifier\n",
    "\n",
    "because I have removed the stopwords in pre-processing ,so the difference between TF and TFIDF is not that obvious\n",
    "\n",
    "but when apply IDF to the feature maps ,it reduce the importance of the common words (like 'movi','film')in documents\n",
    "\n",
    "it improve the performace of classifier"
   ]
  },
  {
   "cell_type": "markdown",
   "metadata": {},
   "source": [
    "---"
   ]
  },
  {
   "cell_type": "markdown",
   "metadata": {},
   "source": [
    "###  > Fourth - Improve the pre-processing of movie comment dataset"
   ]
  },
  {
   "cell_type": "markdown",
   "metadata": {},
   "source": [
    "In pre-processing above , I found the there are some neutral words like 'movi','film',in each comment,so I tried to remove them and train a new claassifier"
   ]
  },
  {
   "cell_type": "code",
   "execution_count": 316,
   "metadata": {},
   "outputs": [],
   "source": [
    "neutral = ['watch','think','look','go','film','movi','phone','one','make','see','could']"
   ]
  },
  {
   "cell_type": "code",
   "execution_count": 317,
   "metadata": {},
   "outputs": [],
   "source": [
    "newY = Y\n",
    "newY['sentence']= newY['sentence'].apply(lambda x:word_tokenize.tokenize(x))"
   ]
  },
  {
   "cell_type": "code",
   "execution_count": 318,
   "metadata": {},
   "outputs": [
    {
     "data": {
      "text/plain": [
       "0    [slow, move, aimless, distress, drift, young, ...\n",
       "1    [sure, lost, flat, charact, audienc, nearli, h...\n",
       "2    [attempt, arti, black, white, clever, camera, ...\n",
       "3                         [littl, music, anyth, speak]\n",
       "4    [best, scene, gerardo, tri, find, song, keep, ...\n",
       "Name: sentence, dtype: object"
      ]
     },
     "execution_count": 318,
     "metadata": {},
     "output_type": "execute_result"
    }
   ],
   "source": [
    "newY['sentence']=newY['sentence'].apply(lambda x: [item for item in x if item not in neutral])\n",
    "newY['sentence'].iloc[0:5]"
   ]
  },
  {
   "cell_type": "code",
   "execution_count": 319,
   "metadata": {},
   "outputs": [
    {
     "data": {
      "text/html": [
       "<div>\n",
       "<style scoped>\n",
       "    .dataframe tbody tr th:only-of-type {\n",
       "        vertical-align: middle;\n",
       "    }\n",
       "\n",
       "    .dataframe tbody tr th {\n",
       "        vertical-align: top;\n",
       "    }\n",
       "\n",
       "    .dataframe thead th {\n",
       "        text-align: right;\n",
       "    }\n",
       "</style>\n",
       "<table border=\"1\" class=\"dataframe\">\n",
       "  <thead>\n",
       "    <tr style=\"text-align: right;\">\n",
       "      <th></th>\n",
       "      <th>sentence</th>\n",
       "      <th>score</th>\n",
       "    </tr>\n",
       "  </thead>\n",
       "  <tbody>\n",
       "    <tr>\n",
       "      <th>0</th>\n",
       "      <td>slow move aimless distress drift young man</td>\n",
       "      <td>0</td>\n",
       "    </tr>\n",
       "    <tr>\n",
       "      <th>1</th>\n",
       "      <td>sure lost flat charact audienc nearli half walk</td>\n",
       "      <td>0</td>\n",
       "    </tr>\n",
       "    <tr>\n",
       "      <th>2</th>\n",
       "      <td>attempt arti black white clever camera angl di...</td>\n",
       "      <td>0</td>\n",
       "    </tr>\n",
       "    <tr>\n",
       "      <th>3</th>\n",
       "      <td>littl music anyth speak</td>\n",
       "      <td>0</td>\n",
       "    </tr>\n",
       "    <tr>\n",
       "      <th>4</th>\n",
       "      <td>best scene gerardo tri find song keep run head</td>\n",
       "      <td>1</td>\n",
       "    </tr>\n",
       "  </tbody>\n",
       "</table>\n",
       "</div>"
      ],
      "text/plain": [
       "                                            sentence  score\n",
       "0         slow move aimless distress drift young man      0\n",
       "1    sure lost flat charact audienc nearli half walk      0\n",
       "2  attempt arti black white clever camera angl di...      0\n",
       "3                            littl music anyth speak      0\n",
       "4     best scene gerardo tri find song keep run head      1"
      ]
     },
     "execution_count": 319,
     "metadata": {},
     "output_type": "execute_result"
    }
   ],
   "source": [
    "newY['sentence']=newY['sentence'].apply(lambda x:' '.join(x))\n",
    "newY[0:5]"
   ]
  },
  {
   "cell_type": "markdown",
   "metadata": {},
   "source": [
    "After remove the neutral words ,re-train the bayes classifiers"
   ]
  },
  {
   "cell_type": "code",
   "execution_count": 320,
   "metadata": {},
   "outputs": [],
   "source": [
    "count_vect = CountVectorizer()\n",
    "newY_counts = count_vect.fit_transform(newY.sentence)"
   ]
  },
  {
   "cell_type": "code",
   "execution_count": 321,
   "metadata": {},
   "outputs": [],
   "source": [
    "tf_transformer = TfidfTransformer(use_idf=False).fit(newY_counts)\n",
    "newY_tf = tf_transformer.transform(newY_counts)\n",
    "tfidf_transformer = TfidfTransformer()\n",
    "newY_tfidf = tfidf_transformer.fit_transform(newY_counts)"
   ]
  },
  {
   "cell_type": "code",
   "execution_count": 322,
   "metadata": {},
   "outputs": [],
   "source": [
    "newclf_tf = MultinomialNB().fit(newY_tf, newY.score)\n",
    "newclf_tfidf = MultinomialNB().fit(newY_tfidf, newY.score)"
   ]
  },
  {
   "cell_type": "code",
   "execution_count": 323,
   "metadata": {},
   "outputs": [],
   "source": [
    "Y_test_counts = count_vect.transform(Y_test.sentence)\n",
    "newY_test_tf = tf_transformer.transform(Y_test_counts)\n",
    "newY_test_tfidf = tfidf_transformer.transform(Y_test_counts)"
   ]
  },
  {
   "cell_type": "code",
   "execution_count": 324,
   "metadata": {},
   "outputs": [],
   "source": [
    "newtf_predicted = newclf_tf.predict(newY_test_tf)\n",
    "newtfidf_predicted = newclf_tfidf.predict(newY_test_tfidf)"
   ]
  },
  {
   "cell_type": "code",
   "execution_count": 325,
   "metadata": {},
   "outputs": [
    {
     "name": "stdout",
     "output_type": "stream",
     "text": [
      "Accuracy of TF classifer is 0.812000\n",
      "Accuracy of new TF classifer is 0.817000\n",
      "Accuracy of TF-IDF classifer is 0.821000\n",
      "Accuracy of new TF-IDF classifer is 0.823000\n"
     ]
    }
   ],
   "source": [
    "newtf_acc = np.mean(newtf_predicted == Y_test.score)\n",
    "newtfidf_acc = np.mean(newtfidf_predicted == Y_test.score)\n",
    "print('Accuracy of TF classifer is {:f}'.format(tf_acc))\n",
    "print('Accuracy of new TF classifer is {:f}'.format(newtf_acc))\n",
    "print('Accuracy of TF-IDF classifer is {:f}'.format(tfidf_acc))\n",
    "print('Accuracy of new TF-IDF classifer is {:f}'.format(newtfidf_acc))"
   ]
  },
  {
   "cell_type": "markdown",
   "metadata": {},
   "source": [
    "In most of testing set ,the accuracy of classifier slightly increased! there are 3942 kind of words and I just remove 11 neutral words\n",
    "\n",
    "so in this case ,remove the neutral words in comment help to improve the performance of classifier"
   ]
  },
  {
   "cell_type": "markdown",
   "metadata": {},
   "source": [
    "###  > Fifth - tidy up the code"
   ]
  },
  {
   "cell_type": "markdown",
   "metadata": {},
   "source": [
    "In this honework ,I practiec how to do the pre-processing skills mentioned in class \n",
    "\n",
    "like tokenize,remove the stop words,stemming,and try to calculate word frequency and TF-IDF\n",
    "\n",
    "implement naive Baye's classifier using sklearn package,and gains a lot\n",
    "\n",
    "thanks for the Lab course and thanks for watching!"
   ]
  }
 ],
 "metadata": {
  "kernelspec": {
   "display_name": "Python 3",
   "language": "python",
   "name": "python3"
  },
  "language_info": {
   "codemirror_mode": {
    "name": "ipython",
    "version": 3
   },
   "file_extension": ".py",
   "mimetype": "text/x-python",
   "name": "python",
   "nbconvert_exporter": "python",
   "pygments_lexer": "ipython3",
   "version": "3.6.5"
  }
 },
 "nbformat": 4,
 "nbformat_minor": 2
}
